import pandas as pd
import plotly.express as px
import streamlit as st


# Load data
df = pd.read_csv('/Users/matt/Car-Sales-Advertisements/Car-Sales-Advertisements/vehicles_us.csv')

# Plot histograms and scatterplots
fig1 = px.histogram(df, x='price', title='Distribution of Prices')
fig1.update_layout(xaxis_title="price ($)")
fig1.show()

fig2 = px.scatter(df, x='odometer', y='price', title='Odometer vs Price')

fig2.update_layout(xaxis_title="odometer (miles)")
fig2.update_layout(yaxis_title="price ($)")

fig2.show()
