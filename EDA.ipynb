{
 "cells": [
  {
   "cell_type": "markdown",
   "metadata": {},
   "source": [
    "# Car Sales Data - Exploratory Data Analysis (EDA)\n",
    "\n",
    "## Introduction\n",
    "\n",
    "In this project, we will perform Exploratory Data Analysis (EDA) on the car sales dataset. The main objectives are:\n",
    "\n",
    "1. Preprocess the data by handling missing values and outliers.\n",
    "2. Visualize key relationships in the data using histograms and scatter plots.\n",
    "3. Gain insights into how car attributes like price, odometer readings, and model year affect vehicle pricing."
   ]
  },
  {
   "cell_type": "code",
   "execution_count": null,
   "metadata": {},
   "outputs": [],
   "source": [
    "# Import necessary libraries\n",
    "import pandas as pd\n",
    "import plotly.express as px\n",
    "import numpy as np\n"
   ]
  },
  {
   "cell_type": "markdown",
   "metadata": {},
   "source": [
    "### Load Data\n",
    "Let's load the dataset and inspect its structure."
   ]
  },
  {
   "cell_type": "code",
   "execution_count": null,
   "metadata": {},
   "outputs": [],
   "source": [
    "# Load the dataset\n",
    "df = pd.read_csv('/Users/matt/Car-Sales-Advertisements/Car-Sales-Advertisements/vehicles_us.csv')\n",
    "\n",
    "# Inspect the first few rows\n",
    "df.head()"
   ]
  },
  {
   "cell_type": "markdown",
   "metadata": {},
   "source": [
    "### Data Preprocessing\n",
    "We will now handle missing values for the `model_year`, `cylinders`, and `odometer` columns."
   ]
  },
  {
   "cell_type": "code",
   "execution_count": null,
   "metadata": {},
   "outputs": [],
   "source": [
    "# Fill missing values for 'model_year' grouped by 'model' using the median\n",
    "df['model_year'] = df.groupby('model')['model_year'].transform(lambda x: x.fillna(x.median()))\n",
    "\n",
    "# Fill missing values for 'cylinders' grouped by 'model' using the median\n",
    "df['cylinders'] = df.groupby('model')['cylinders'].transform(lambda x: x.fillna(x.median()))\n",
    "\n",
    "# Fill missing values for 'odometer' grouped by 'model_year' and 'model' using the mean\n",
    "df['odometer'] = df.groupby(['model_year', 'model'])['odometer'].transform(lambda x: x.fillna(x.mean()))\n",
    "\n",
    "# Verify missing values are handled\n",
    "df.isna().sum()"
   ]
  },
  {
   "cell_type": "markdown",
   "metadata": {},
   "source": [
    "### Handle Outliers\n",
    "We will now remove outliers in the `model_year` and `price` columns to make the scatterplots more informative."
   ]
  },
  {
   "cell_type": "code",
   "execution_count": null,
   "metadata": {},
   "outputs": [],
   "source": [
    "# Remove outliers for 'model_year' and 'price'\n",
    "q_low_model_year = df['model_year'].quantile(0.01)\n",
    "q_high_model_year = df['model_year'].quantile(0.99)\n",
    "df = df[(df['model_year'] >= q_low_model_year) & (df['model_year'] <= q_high_model_year)]\n",
    "\n",
    "q_low_price = df['price'].quantile(0.01)\n",
    "q_high_price = df['price'].quantile(0.99)\n",
    "df = df[(df['price'] >= q_low_price) & (df['price'] <= q_high_price)]"
   ]
  },
  {
   "cell_type": "markdown",
   "metadata": {},
   "source": [
    "### Data Visualization\n",
    "We will create histograms for the distribution of prices and scatterplots to visualize the relationship between odometer readings and price."
   ]
  },
  {
   "cell_type": "code",
   "execution_count": null,
   "metadata": {},
   "outputs": [],
   "source": [
    "# Histogram of prices\n",
    "fig1 = px.histogram(df, x='price', title='Distribution of Car Prices')\n",
    "fig1.update_layout(xaxis_title='Price ($)')\n",
    "fig1.show()\n",
    "\n",
    "# Scatterplot of odometer vs price\n",
    "fig2 = px.scatter(df, x='odometer', y='price', title='Odometer vs Price')\n",
    "fig2.update_layout(xaxis_title='Odometer (miles)', yaxis_title='Price ($)')\n",
    "fig2.show()"
   ]
  },
  {
   "cell_type": "markdown",
   "metadata": {},
   "source": [
    "## Conclusion\n",
    "From the analysis, we observe that the majority of cars are priced between $5,000 and $20,000, with a few high-end models exceeding that range. There is also a clear inverse relationship between the odometer reading and price, where cars with lower mileage tend to be priced higher.\n",
   
