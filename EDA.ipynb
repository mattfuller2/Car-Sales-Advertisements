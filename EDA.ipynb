{
 "cells": [
  {
   "cell_type": "code",
   "execution_count": null,
   "metadata": {},
   "outputs": [],
   "source": [
    "import pandas as pd\n",
    "import plotly.express as px\n",
    "import streamlit as st\n",
    "\n",
    "# Load data\n",
    "df = pd.read_csv('/Users/matt/Car-Sales-Advertisements/Car-Sales-Advertisements/vehicles_us.csv')\n",
    "\n",
    "# Plot histograms and scatterplots\n",
    "fig1 = px.histogram(df, x='price', title='Distribution of Prices')\n",
    "fig1.update_layout(xaxis_title='price ($)')\n",
    "fig1.show()\n",
    "\n",
    "fig2 = px.scatter(df, x='odometer', y='price', title='Odometer vs Price')\n",
    "fig2.update_layout(xaxis_title='odometer (miles)')\n",
    "fig2.update_layout(yaxis_title='price ($)')\n",
    "fig2.show()\n"
   ]
  }
 ],
 "metadata": {
  "kernelspec": {
   "display_name": "Python 3",
   "language": "python",
   "name": "python3"
  },
  "language_info": {
   "codemirror_mode": {
    "name": "ipython",
    "version": 3
   },
   "file_extension": ".py",
   "mimetype": "text/x-python",
   "name": "python",
   "nbconvert_exporter": "python",
   "version": "3.8"
  }
 },
 "nbformat": 4,
 "nbformat_minor": 5
}
